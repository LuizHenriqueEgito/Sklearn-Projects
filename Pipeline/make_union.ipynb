{
 "cells": [
  {
   "cell_type": "code",
   "execution_count": 3,
   "id": "baaa7876-b950-49cb-b7e1-70ba0f611f83",
   "metadata": {
    "tags": []
   },
   "outputs": [],
   "source": [
    "import numpy as np\n",
    "import pandas as pd\n",
    "from sklearn.pipeline import make_union\n",
    "from sklearn.decomposition import PCA, TruncatedSVD\n",
    "from sklearn.preprocessing import PolynomialFeatures, StandardScaler"
   ]
  },
  {
   "cell_type": "code",
   "execution_count": 2,
   "id": "55db5a58-9668-4d7d-885e-0c3063657cec",
   "metadata": {
    "tags": []
   },
   "outputs": [],
   "source": [
    "from sklearn import set_config\n",
    "set_config(transform_output = \"pandas\")"
   ]
  },
  {
   "cell_type": "markdown",
   "id": "61746f71-497b-4a1a-be4d-4e4f1d1d5856",
   "metadata": {},
   "source": [
    "Faz o mesmo que `FeatureUnion` mas não precisa nomear os `transformer_list` "
   ]
  },
  {
   "cell_type": "code",
   "execution_count": 12,
   "id": "533f275c-f907-4376-8e64-5a18aa7954e2",
   "metadata": {
    "tags": []
   },
   "outputs": [],
   "source": [
    "union = make_union(\n",
    "    PCA(n_components=1),\n",
    "    TruncatedSVD(n_components=2),\n",
    "    PolynomialFeatures(include_bias=False, degree=2),\n",
    "    StandardScaler(), verbose=True)\n",
    "\n",
    "# Create DataFrame\n",
    "X = np.array([[0., 1., 3], [2., 2., 5]])\n",
    "X = pd.DataFrame(X, columns=['a', 'b', 'c'])"
   ]
  },
  {
   "cell_type": "code",
   "execution_count": 13,
   "id": "a5dd35aa-e792-41be-9f3f-095148b8115d",
   "metadata": {
    "tags": []
   },
   "outputs": [
    {
     "name": "stdout",
     "output_type": "stream",
     "text": [
      "[FeatureUnion] ........... (step 1 of 4) Processing pca, total=   0.0s\n",
      "[FeatureUnion] .. (step 2 of 4) Processing truncatedsvd, total=   0.0s\n",
      "[FeatureUnion]  (step 3 of 4) Processing polynomialfeatures, total=   0.0s\n",
      "[FeatureUnion]  (step 4 of 4) Processing standardscaler, total=   0.0s\n"
     ]
    }
   ],
   "source": [
    "X_union = union.fit_transform(X)"
   ]
  },
  {
   "cell_type": "code",
   "execution_count": 14,
   "id": "db5684c2-735f-4760-a235-2385c365ea87",
   "metadata": {
    "tags": []
   },
   "outputs": [
    {
     "data": {
      "text/html": [
       "<div>\n",
       "<style scoped>\n",
       "    .dataframe tbody tr th:only-of-type {\n",
       "        vertical-align: middle;\n",
       "    }\n",
       "\n",
       "    .dataframe tbody tr th {\n",
       "        vertical-align: top;\n",
       "    }\n",
       "\n",
       "    .dataframe thead th {\n",
       "        text-align: right;\n",
       "    }\n",
       "</style>\n",
       "<table border=\"1\" class=\"dataframe\">\n",
       "  <thead>\n",
       "    <tr style=\"text-align: right;\">\n",
       "      <th></th>\n",
       "      <th>pca__pca0</th>\n",
       "      <th>truncatedsvd__truncatedsvd0</th>\n",
       "      <th>truncatedsvd__truncatedsvd1</th>\n",
       "      <th>polynomialfeatures__a</th>\n",
       "      <th>polynomialfeatures__b</th>\n",
       "      <th>polynomialfeatures__c</th>\n",
       "      <th>polynomialfeatures__a^2</th>\n",
       "      <th>polynomialfeatures__a b</th>\n",
       "      <th>polynomialfeatures__a c</th>\n",
       "      <th>polynomialfeatures__b^2</th>\n",
       "      <th>polynomialfeatures__b c</th>\n",
       "      <th>polynomialfeatures__c^2</th>\n",
       "      <th>standardscaler__a</th>\n",
       "      <th>standardscaler__b</th>\n",
       "      <th>standardscaler__c</th>\n",
       "    </tr>\n",
       "  </thead>\n",
       "  <tbody>\n",
       "    <tr>\n",
       "      <th>0</th>\n",
       "      <td>1.5</td>\n",
       "      <td>3.039550</td>\n",
       "      <td>0.872432</td>\n",
       "      <td>0.0</td>\n",
       "      <td>1.0</td>\n",
       "      <td>3.0</td>\n",
       "      <td>0.0</td>\n",
       "      <td>0.0</td>\n",
       "      <td>0.0</td>\n",
       "      <td>1.0</td>\n",
       "      <td>3.0</td>\n",
       "      <td>9.0</td>\n",
       "      <td>-1.0</td>\n",
       "      <td>-1.0</td>\n",
       "      <td>-1.0</td>\n",
       "    </tr>\n",
       "    <tr>\n",
       "      <th>1</th>\n",
       "      <td>-1.5</td>\n",
       "      <td>5.725864</td>\n",
       "      <td>-0.463127</td>\n",
       "      <td>2.0</td>\n",
       "      <td>2.0</td>\n",
       "      <td>5.0</td>\n",
       "      <td>4.0</td>\n",
       "      <td>4.0</td>\n",
       "      <td>10.0</td>\n",
       "      <td>4.0</td>\n",
       "      <td>10.0</td>\n",
       "      <td>25.0</td>\n",
       "      <td>1.0</td>\n",
       "      <td>1.0</td>\n",
       "      <td>1.0</td>\n",
       "    </tr>\n",
       "  </tbody>\n",
       "</table>\n",
       "</div>"
      ],
      "text/plain": [
       "   pca__pca0  truncatedsvd__truncatedsvd0  truncatedsvd__truncatedsvd1  \\\n",
       "0        1.5                     3.039550                     0.872432   \n",
       "1       -1.5                     5.725864                    -0.463127   \n",
       "\n",
       "   polynomialfeatures__a  polynomialfeatures__b  polynomialfeatures__c  \\\n",
       "0                    0.0                    1.0                    3.0   \n",
       "1                    2.0                    2.0                    5.0   \n",
       "\n",
       "   polynomialfeatures__a^2  polynomialfeatures__a b  polynomialfeatures__a c  \\\n",
       "0                      0.0                      0.0                      0.0   \n",
       "1                      4.0                      4.0                     10.0   \n",
       "\n",
       "   polynomialfeatures__b^2  polynomialfeatures__b c  polynomialfeatures__c^2  \\\n",
       "0                      1.0                      3.0                      9.0   \n",
       "1                      4.0                     10.0                     25.0   \n",
       "\n",
       "   standardscaler__a  standardscaler__b  standardscaler__c  \n",
       "0               -1.0               -1.0               -1.0  \n",
       "1                1.0                1.0                1.0  "
      ]
     },
     "execution_count": 14,
     "metadata": {},
     "output_type": "execute_result"
    }
   ],
   "source": [
    "X_union"
   ]
  },
  {
   "cell_type": "code",
   "execution_count": null,
   "id": "c843ea57-cbed-4bdd-a61e-d59f6572ac9a",
   "metadata": {},
   "outputs": [],
   "source": []
  }
 ],
 "metadata": {
  "kernelspec": {
   "display_name": "env",
   "language": "python",
   "name": "env"
  },
  "language_info": {
   "codemirror_mode": {
    "name": "ipython",
    "version": 3
   },
   "file_extension": ".py",
   "mimetype": "text/x-python",
   "name": "python",
   "nbconvert_exporter": "python",
   "pygments_lexer": "ipython3",
   "version": "3.11.2"
  }
 },
 "nbformat": 4,
 "nbformat_minor": 5
}
