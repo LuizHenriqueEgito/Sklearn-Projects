{
 "cells": [
  {
   "cell_type": "code",
   "execution_count": 1,
   "id": "269325db-98c9-4194-83c1-dab23ce6808f",
   "metadata": {
    "tags": []
   },
   "outputs": [],
   "source": [
    "import numpy as np\n",
    "import pandas as pd\n",
    "from sklearn.pipeline import FeatureUnion\n",
    "from sklearn.decomposition import PCA, TruncatedSVD\n",
    "from sklearn.preprocessing import PolynomialFeatures, StandardScaler"
   ]
  },
  {
   "cell_type": "code",
   "execution_count": 2,
   "id": "a4d0c71d-fa7f-4941-91f4-408b785171b8",
   "metadata": {
    "tags": []
   },
   "outputs": [],
   "source": [
    "from sklearn import set_config\n",
    "set_config(transform_output = \"pandas\")"
   ]
  },
  {
   "cell_type": "markdown",
   "id": "347eadcd-a04e-453c-80dc-f2d3ce63ed5f",
   "metadata": {},
   "source": [
    "`Concatena` os resultados de vários objetos `transformadores`."
   ]
  },
  {
   "cell_type": "code",
   "execution_count": 7,
   "id": "f16589fa-a291-4d9e-bd4c-5b2b6b82137b",
   "metadata": {
    "tags": []
   },
   "outputs": [],
   "source": [
    "union = FeatureUnion(transformer_list=[\n",
    "    (\"pca\", PCA(n_components=1)),\n",
    "    (\"svd\", TruncatedSVD(n_components=2)),\n",
    "    ('poly', PolynomialFeatures(include_bias=False, degree=2)),\n",
    "    ('std', StandardScaler())\n",
    "                     ], verbose=True)\n",
    "\n",
    "# Create DataFrame\n",
    "X = np.array([[0., 1., 3], [2., 2., 5]])\n",
    "X = pd.DataFrame(X, columns=['a', 'b', 'c'])"
   ]
  },
  {
   "cell_type": "code",
   "execution_count": 8,
   "id": "1c1957e5-fbde-487e-acbe-96aaa84db74a",
   "metadata": {
    "tags": []
   },
   "outputs": [
    {
     "name": "stdout",
     "output_type": "stream",
     "text": [
      "[FeatureUnion] ........... (step 1 of 4) Processing pca, total=   0.0s\n",
      "[FeatureUnion] ........... (step 2 of 4) Processing svd, total=   0.0s\n",
      "[FeatureUnion] .......... (step 3 of 4) Processing poly, total=   0.0s\n",
      "[FeatureUnion] ........... (step 4 of 4) Processing std, total=   0.0s\n"
     ]
    }
   ],
   "source": [
    "X_union = union.fit_transform(X)"
   ]
  },
  {
   "cell_type": "code",
   "execution_count": 6,
   "id": "35040845-f86a-40f9-8f4d-32c778441aa3",
   "metadata": {
    "tags": []
   },
   "outputs": [
    {
     "data": {
      "text/html": [
       "<div>\n",
       "<style scoped>\n",
       "    .dataframe tbody tr th:only-of-type {\n",
       "        vertical-align: middle;\n",
       "    }\n",
       "\n",
       "    .dataframe tbody tr th {\n",
       "        vertical-align: top;\n",
       "    }\n",
       "\n",
       "    .dataframe thead th {\n",
       "        text-align: right;\n",
       "    }\n",
       "</style>\n",
       "<table border=\"1\" class=\"dataframe\">\n",
       "  <thead>\n",
       "    <tr style=\"text-align: right;\">\n",
       "      <th></th>\n",
       "      <th>pca__pca0</th>\n",
       "      <th>svd__truncatedsvd0</th>\n",
       "      <th>svd__truncatedsvd1</th>\n",
       "      <th>poly__a</th>\n",
       "      <th>poly__b</th>\n",
       "      <th>poly__c</th>\n",
       "      <th>poly__a^2</th>\n",
       "      <th>poly__a b</th>\n",
       "      <th>poly__a c</th>\n",
       "      <th>poly__b^2</th>\n",
       "      <th>poly__b c</th>\n",
       "      <th>poly__c^2</th>\n",
       "      <th>std__a</th>\n",
       "      <th>std__b</th>\n",
       "      <th>std__c</th>\n",
       "    </tr>\n",
       "  </thead>\n",
       "  <tbody>\n",
       "    <tr>\n",
       "      <th>0</th>\n",
       "      <td>1.5</td>\n",
       "      <td>3.039550</td>\n",
       "      <td>0.872432</td>\n",
       "      <td>0.0</td>\n",
       "      <td>1.0</td>\n",
       "      <td>3.0</td>\n",
       "      <td>0.0</td>\n",
       "      <td>0.0</td>\n",
       "      <td>0.0</td>\n",
       "      <td>1.0</td>\n",
       "      <td>3.0</td>\n",
       "      <td>9.0</td>\n",
       "      <td>-1.0</td>\n",
       "      <td>-1.0</td>\n",
       "      <td>-1.0</td>\n",
       "    </tr>\n",
       "    <tr>\n",
       "      <th>1</th>\n",
       "      <td>-1.5</td>\n",
       "      <td>5.725864</td>\n",
       "      <td>-0.463127</td>\n",
       "      <td>2.0</td>\n",
       "      <td>2.0</td>\n",
       "      <td>5.0</td>\n",
       "      <td>4.0</td>\n",
       "      <td>4.0</td>\n",
       "      <td>10.0</td>\n",
       "      <td>4.0</td>\n",
       "      <td>10.0</td>\n",
       "      <td>25.0</td>\n",
       "      <td>1.0</td>\n",
       "      <td>1.0</td>\n",
       "      <td>1.0</td>\n",
       "    </tr>\n",
       "  </tbody>\n",
       "</table>\n",
       "</div>"
      ],
      "text/plain": [
       "   pca__pca0  svd__truncatedsvd0  svd__truncatedsvd1  poly__a  poly__b  \\\n",
       "0        1.5            3.039550            0.872432      0.0      1.0   \n",
       "1       -1.5            5.725864           -0.463127      2.0      2.0   \n",
       "\n",
       "   poly__c  poly__a^2  poly__a b  poly__a c  poly__b^2  poly__b c  poly__c^2  \\\n",
       "0      3.0        0.0        0.0        0.0        1.0        3.0        9.0   \n",
       "1      5.0        4.0        4.0       10.0        4.0       10.0       25.0   \n",
       "\n",
       "   std__a  std__b  std__c  \n",
       "0    -1.0    -1.0    -1.0  \n",
       "1     1.0     1.0     1.0  "
      ]
     },
     "execution_count": 6,
     "metadata": {},
     "output_type": "execute_result"
    }
   ],
   "source": [
    "X_union"
   ]
  },
  {
   "cell_type": "code",
   "execution_count": null,
   "id": "59eb4860-4772-43b2-9b29-f2d1029fd02e",
   "metadata": {},
   "outputs": [],
   "source": []
  }
 ],
 "metadata": {
  "kernelspec": {
   "display_name": "Python 3 (ipykernel)",
   "language": "python",
   "name": "python3"
  },
  "language_info": {
   "codemirror_mode": {
    "name": "ipython",
    "version": 3
   },
   "file_extension": ".py",
   "mimetype": "text/x-python",
   "name": "python",
   "nbconvert_exporter": "python",
   "pygments_lexer": "ipython3",
   "version": "3.9.0"
  }
 },
 "nbformat": 4,
 "nbformat_minor": 5
}
