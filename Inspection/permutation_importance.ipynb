{
 "cells": [
  {
   "cell_type": "markdown",
   "id": "c973c2db-02ff-428f-b52c-9189a4f20144",
   "metadata": {},
   "source": [
    "# Permutation_importance"
   ]
  },
  {
   "cell_type": "markdown",
   "id": "0e14c612-bf0f-4e6f-810c-28925343bc1c",
   "metadata": {},
   "source": [
    "`permutation_importance` é uma técnica usada para avaliar a importância das features em um modelo de aprendizado de máquina. Ela é usada para determinar a influência relativa de cada feature nas previsões feitas pelo modelo. A ideia principal por trás do `permutation_importance` é medir o impacto de embaralhar aleatoriamente os valores de uma feature sobre o desempenho do modelo, a fim de avaliar quanto a métrica de avaliação (por exemplo, precisão, R²) é afetada por essas mudanças.\n",
    "\n",
    "**Cálculo da Métrica Base:** Primeiro, o modelo é treinado com os dados de treinamento e a métrica de avaliação (por exemplo, precisão, R²) é calculada no conjunto de teste. Isso fornece a métrica de desempenho base do modelo.\n",
    "\n",
    "**Embaralhamento das Features:** Em seguida, cada feature é embaralhada aleatoriamente nos dados de teste, mantendo as outras features inalteradas. Isso significa que os valores de uma feature são misturados aleatoriamente em relação aos rótulos reais.\n",
    "\n",
    "**Cálculo da Métrica Após Embaralhamento:** O modelo treinado com as features embaralhadas é usado para fazer previsões no conjunto de teste. A mesma métrica de avaliação é calculada novamente usando as previsões feitas com as features embaralhadas.\n",
    "\n",
    "**Comparação de Métricas:** A diferença entre a métrica de desempenho base (etapa 1) e a métrica de desempenho após o embaralhamento (etapa 3) é calculada para cada feature. Quanto maior a diferença, mais importante é a feature para o modelo. Se a métrica cair significativamente após o embaralhamento, isso sugere que a feature é importante."
   ]
  },
  {
   "cell_type": "code",
   "execution_count": 1,
   "id": "48d2dcc0-0fd5-4fa8-930a-daaecd476007",
   "metadata": {
    "tags": []
   },
   "outputs": [],
   "source": [
    "from collections import defaultdict\n",
    "\n",
    "import matplotlib.pyplot as plt\n",
    "import numpy as np\n",
    "from scipy.cluster import hierarchy\n",
    "from scipy.spatial.distance import squareform\n",
    "from scipy.stats import spearmanr\n",
    "\n",
    "from sklearn.datasets import load_breast_cancer\n",
    "from sklearn.ensemble import RandomForestClassifier\n",
    "from sklearn.inspection import permutation_importance\n",
    "from sklearn.model_selection import train_test_split"
   ]
  },
  {
   "cell_type": "code",
   "execution_count": 21,
   "id": "a22d2b33-e6fe-42db-bbba-7e26bae4f5fe",
   "metadata": {
    "tags": []
   },
   "outputs": [],
   "source": [
    "import pandas as pd\n",
    "from sklearn.datasets import make_classification\n",
    "from sklearn.linear_model import LogisticRegression"
   ]
  },
  {
   "cell_type": "code",
   "execution_count": 24,
   "id": "7a73b53e-565f-4f20-8d81-4bbfda2d60c5",
   "metadata": {
    "tags": []
   },
   "outputs": [],
   "source": [
    "X, y = make_classification(n_samples=5_000, n_features=5)\n",
    "X = pd.DataFrame(X, columns=['A', 'B', 'C', 'D', 'E'])\n",
    "X_train, X_test, y_train, y_test = train_test_split(X, y, random_state=42, stratify=y)"
   ]
  },
  {
   "cell_type": "code",
   "execution_count": 30,
   "id": "8eff2fd5-72f6-4429-8336-452f0c8c5102",
   "metadata": {
    "tags": []
   },
   "outputs": [
    {
     "name": "stdout",
     "output_type": "stream",
     "text": [
      "Accuracy on test data: 0.93\n"
     ]
    }
   ],
   "source": [
    "clf = RandomForestClassifier(max_depth=4, random_state=42)\n",
    "clf.fit(X_train, y_train)\n",
    "print(\"Accuracy on test data: {:.2f}\".format(clf.score(X_test, y_test)))"
   ]
  },
  {
   "cell_type": "code",
   "execution_count": 31,
   "id": "e0e3627b-1daa-46d2-91da-7724b770b568",
   "metadata": {
    "tags": []
   },
   "outputs": [],
   "source": [
    "result = permutation_importance(clf, X_train, y_train, n_repeats=15, random_state=42)"
   ]
  },
  {
   "cell_type": "code",
   "execution_count": 32,
   "id": "9c47f53c-dbee-4e55-8855-52c6f4268765",
   "metadata": {
    "tags": []
   },
   "outputs": [],
   "source": [
    "perm_sorted_idx = result.importances_mean.argsort()"
   ]
  },
  {
   "cell_type": "code",
   "execution_count": 33,
   "id": "4992db5e-9aea-47dd-82fa-00df6180d0bf",
   "metadata": {
    "tags": []
   },
   "outputs": [
    {
     "data": {
      "text/plain": [
       "array([1, 2, 3, 0, 4], dtype=int64)"
      ]
     },
     "execution_count": 33,
     "metadata": {},
     "output_type": "execute_result"
    }
   ],
   "source": [
    "perm_sorted_idx"
   ]
  },
  {
   "cell_type": "code",
   "execution_count": 35,
   "id": "36413aba-a3da-4fa8-a345-e60f2660b466",
   "metadata": {
    "tags": []
   },
   "outputs": [],
   "source": [
    "tree_importance_sorted_idx = np.argsort(clf.feature_importances_)"
   ]
  },
  {
   "cell_type": "code",
   "execution_count": 36,
   "id": "932c00f7-b99f-463b-9a6a-05d51be5904e",
   "metadata": {
    "tags": []
   },
   "outputs": [
    {
     "data": {
      "text/plain": [
       "array([1, 3, 2, 0, 4], dtype=int64)"
      ]
     },
     "execution_count": 36,
     "metadata": {},
     "output_type": "execute_result"
    }
   ],
   "source": [
    "tree_importance_sorted_idx"
   ]
  },
  {
   "cell_type": "code",
   "execution_count": 37,
   "id": "a2dbed41-3bd5-4f2d-b7da-36611d209648",
   "metadata": {
    "tags": []
   },
   "outputs": [],
   "source": [
    "tree_indices = np.arange(0, len(clf.feature_importances_)) + 0.5"
   ]
  },
  {
   "cell_type": "code",
   "execution_count": 38,
   "id": "90681036-6b99-4664-8d6f-0db15ba8b74d",
   "metadata": {
    "tags": []
   },
   "outputs": [
    {
     "data": {
      "text/plain": [
       "array([0.5, 1.5, 2.5, 3.5, 4.5])"
      ]
     },
     "execution_count": 38,
     "metadata": {},
     "output_type": "execute_result"
    }
   ],
   "source": [
    "tree_indices"
   ]
  },
  {
   "cell_type": "code",
   "execution_count": 44,
   "id": "4b239bf1-e5f8-45ce-8e92-bb5351c7c117",
   "metadata": {
    "tags": []
   },
   "outputs": [
    {
     "data": {
      "image/png": "[encoded data removed]",
      "text/plain": [
       "<Figure size 800x400 with 2 Axes>"
      ]
     },
     "metadata": {},
     "output_type": "display_data"
    }
   ],
   "source": [
    "fig, (ax1, ax2) = plt.subplots(1, 2, figsize=(8, 4))\n",
    "ax1.barh(tree_indices, clf.feature_importances_[tree_importance_sorted_idx], height=0.7)\n",
    "ax1.set_yticks(tree_indices)\n",
    "ax1.set_yticklabels(X.columns[tree_importance_sorted_idx])\n",
    "ax1.set_ylim((0, len(clf.feature_importances_)))\n",
    "ax2.boxplot(\n",
    "    result.importances[perm_sorted_idx].T,\n",
    "    vert=False,\n",
    "    labels=X.columns[perm_sorted_idx],\n",
    ")\n",
    "\n",
    "fig.tight_layout()\n",
    "plt.show()"
   ]
  },
  {
   "cell_type": "code",
   "execution_count": 70,
   "id": "a9ebe244-5171-4111-8faf-82ef55742f85",
   "metadata": {
    "tags": []
   },
   "outputs": [
    {
     "data": {
      "image/png": "[encoded data removed]",
      "text/plain": [
       "<Figure size 800x400 with 3 Axes>"
      ]
     },
     "metadata": {},
     "output_type": "display_data"
    }
   ],
   "source": [
    "fig, (ax1, ax2) = plt.subplots(1, 2, figsize=(8, 4))\n",
    "corr = spearmanr(X).correlation\n",
    "corr = (corr + corr.T) / 2\n",
    "np.fill_diagonal(corr, 1)\n",
    "distance_matrix = 1 - np.abs(corr)\n",
    "dist_linkage = hierarchy.ward(squareform(distance_matrix))\n",
    "dendro = hierarchy.dendrogram(\n",
    "    dist_linkage, labels=X.columns, ax=ax1, leaf_rotation=90\n",
    ")\n",
    "dendro_idx = np.arange(0, len(dendro[\"ivl\"]))\n",
    "im = ax2.imshow(corr[dendro[\"leaves\"], :][:, dendro[\"leaves\"]])\n",
    "ax2.set_xticks(dendro_idx)\n",
    "ax2.set_yticks(dendro_idx)\n",
    "ax2.set_xticklabels(dendro[\"ivl\"], rotation=\"vertical\")\n",
    "ax2.set_yticklabels(dendro[\"ivl\"])\n",
    "fig.colorbar(im, ax=ax2)\n",
    "fig.tight_layout()\n",
    "plt.show()"
   ]
  },
  {
   "cell_type": "code",
   "execution_count": 60,
   "id": "78233516-1930-4807-9159-c80ba2de3d14",
   "metadata": {
    "tags": []
   },
   "outputs": [],
   "source": [
    "cluster_ids = hierarchy.fcluster(dist_linkage, 1, criterion=\"distance\")\n",
    "cluster_id_to_feature_ids = defaultdict(list)\n",
    "for idx, cluster_id in enumerate(cluster_ids):\n",
    "    cluster_id_to_feature_ids[cluster_id].append(idx)\n",
    "selected_features = [v[0] for v in cluster_id_to_feature_ids.values()]"
   ]
  },
  {
   "cell_type": "code",
   "execution_count": 62,
   "id": "0b66d1e2-ab2b-48bd-9766-eb562dbf1459",
   "metadata": {
    "tags": []
   },
   "outputs": [
    {
     "name": "stdout",
     "output_type": "stream",
     "text": [
      "Accuracy on test data with features removed: 0.94\n"
     ]
    }
   ],
   "source": [
    "X_train_sel = X_train.iloc[:, selected_features]\n",
    "X_test_sel = X_test.iloc[:, selected_features]\n",
    "\n",
    "clf_sel = RandomForestClassifier(n_estimators=100, random_state=42)\n",
    "clf_sel.fit(X_train_sel, y_train)\n",
    "print(\n",
    "    \"Accuracy on test data with features removed: {:.2f}\".format(\n",
    "        clf_sel.score(X_test_sel, y_test)\n",
    "    )\n",
    ")"
   ]
  },
  {
   "cell_type": "markdown",
   "id": "3df0bf43-f0e3-4d12-ba65-ce67c6392bf7",
   "metadata": {},
   "source": [
    "##### features correlacionadas em cada cluster\n",
    "**A: 0**  \n",
    "**B: 1**  \n",
    "**C: 2**  \n",
    "**D: 3**  \n",
    "**E: 4**  \n",
    "As features [A: 0, E:4] e [C:2, D:3] são correlacionadas já a feature B:1 não esta correlacionada com ninguém"
   ]
  },
  {
   "cell_type": "code",
   "execution_count": 65,
   "id": "19afba2c-702d-4c5b-8cb1-643d67080b33",
   "metadata": {
    "tags": []
   },
   "outputs": [
    {
     "data": {
      "text/plain": [
       "dict_values([[0, 4], [1], [2, 3]])"
      ]
     },
     "execution_count": 65,
     "metadata": {},
     "output_type": "execute_result"
    }
   ],
   "source": [
    "cluster_id_to_feature_ids.values()"
   ]
  },
  {
   "cell_type": "code",
   "execution_count": 66,
   "id": "bd79ac82-7dd1-4419-b530-27554f878635",
   "metadata": {
    "tags": []
   },
   "outputs": [
    {
     "data": {
      "text/plain": [
       "[0, 1, 2]"
      ]
     },
     "execution_count": 66,
     "metadata": {},
     "output_type": "execute_result"
    }
   ],
   "source": [
    "# Cuidado, a feature E é melhor que a A mas aqui nos deixamos a A e removemos a E\n",
    "selected_features"
   ]
  },
  {
   "cell_type": "code",
   "execution_count": 68,
   "id": "e639769e-cf34-4db8-ba1e-f43e7cb8b86b",
   "metadata": {
    "tags": []
   },
   "outputs": [
    {
     "name": "stdout",
     "output_type": "stream",
     "text": [
      "Accuracy on test data with features removed: 0.94\n"
     ]
    }
   ],
   "source": [
    "X_train_sel = X_train.iloc[:, [4,3]]\n",
    "X_test_sel = X_test.iloc[:, [4,3]]\n",
    "\n",
    "clf_sel = RandomForestClassifier(n_estimators=100, random_state=42)\n",
    "clf_sel.fit(X_train_sel, y_train)\n",
    "print(\n",
    "    \"Accuracy on test data with features removed: {:.2f}\".format(\n",
    "        clf_sel.score(X_test_sel, y_test)\n",
    "    )\n",
    ")"
   ]
  },
  {
   "cell_type": "code",
   "execution_count": null,
   "id": "c674a3ff-8e5b-4100-afc5-2987f1e0cf35",
   "metadata": {},
   "outputs": [],
   "source": []
  }
 ],
 "metadata": {
  "kernelspec": {
   "display_name": "env",
   "language": "python",
   "name": "env"
  },
  "language_info": {
   "codemirror_mode": {
    "name": "ipython",
    "version": 3
   },
   "file_extension": ".py",
   "mimetype": "text/x-python",
   "name": "python",
   "nbconvert_exporter": "python",
   "pygments_lexer": "ipython3",
   "version": "3.11.2"
  }
 },
 "nbformat": 4,
 "nbformat_minor": 5
}
