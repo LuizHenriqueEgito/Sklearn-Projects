{
 "cells": [
  {
   "cell_type": "code",
   "execution_count": 20,
   "id": "8b0863e1-c81a-4f72-a95a-7522c5e22c4a",
   "metadata": {},
   "outputs": [],
   "source": [
    "import pandas as pd\n",
    "import numpy as np\n",
    "from scipy.stats import randint, uniform, geom, expon\n",
    "from sklearn.compose import ColumnTransformer, TransformedTargetRegressor\n",
    "from sklearn.pipeline import Pipeline\n",
    "from sklearn.preprocessing import (\n",
    "    MinMaxScaler,\n",
    "    RobustScaler,\n",
    "    OneHotEncoder,\n",
    "    PowerTransformer\n",
    ")\n",
    "from sklearn.impute import SimpleImputer\n",
    "from sklearn.linear_model import LinearRegression\n",
    "\n",
    "from sklearn import set_config\n",
    "set_config(transform_output = \"pandas\")"
   ]
  },
  {
   "cell_type": "code",
   "execution_count": 3,
   "id": "a26b799c-da80-4c2c-b8b8-30d3792920f4",
   "metadata": {
    "tags": []
   },
   "outputs": [],
   "source": [
    "np.random.seed(42)\n",
    "\n",
    "data = {\n",
    "    'numeric_col_0': randint(low=0, high=2).rvs(size=10),\n",
    "    'numeric_col_1': randint(low=1, high=10).rvs(size=10),\n",
    "    'float_col_0': uniform(0, 1).rvs(size=10),\n",
    "    'float_col_1': uniform(0, 10).rvs(size=10),\n",
    "    'categorical_col_0': np.random.choice(['a', 'b'], size=10, p=[.5, .5]),\n",
    "    'categorical_col_1': np.random.choice(['x', 'y', 'z'], size=10, p=[.3, .3, .4]),\n",
    "    'target': uniform(1, 100).rvs(size=10)\n",
    "}"
   ]
  },
  {
   "cell_type": "code",
   "execution_count": 4,
   "id": "7ec46a5c-f09e-4843-98eb-26e610c15418",
   "metadata": {
    "tags": []
   },
   "outputs": [],
   "source": [
    "df_raw = pd.DataFrame(data)"
   ]
  },
  {
   "cell_type": "code",
   "execution_count": 5,
   "id": "d933fc67-2384-4a86-a14a-ad3d4f74934d",
   "metadata": {
    "tags": []
   },
   "outputs": [],
   "source": [
    "X = df_raw.drop(columns='target')\n",
    "y = df_raw.target"
   ]
  },
  {
   "cell_type": "code",
   "execution_count": 6,
   "id": "b8176744-68ec-4680-a3af-3a251e173b2d",
   "metadata": {
    "tags": []
   },
   "outputs": [],
   "source": [
    "# seleciona as colunas de cada tipo\n",
    "int_cols = X.select_dtypes(include=['int']).columns\n",
    "float_cols = X.select_dtypes(include=['float']).columns\n",
    "cat_cols = X.select_dtypes(include=['object']).columns"
   ]
  },
  {
   "cell_type": "code",
   "execution_count": 7,
   "id": "588d20d8-b1f2-4f0d-a0eb-df980f85d1b4",
   "metadata": {
    "tags": []
   },
   "outputs": [],
   "source": [
    "# para cada tipo de coluna faça um pipe proprio | da para fazer com make_pipeline\n",
    "pipe_num = Pipeline(steps=[('int_imp', SimpleImputer(strategy='mean')), ('num_prep', MinMaxScaler())], verbose=True)\n",
    "\n",
    "pipe_float = Pipeline(steps=[('float_imp', SimpleImputer(strategy='median')), ('float_prep', RobustScaler())], verbose=True)\n",
    "\n",
    "pipe_cat = Pipeline(steps=[\n",
    "    ('cat_imp', SimpleImputer(strategy='most_frequent')), \n",
    "    ('cat_prep', OneHotEncoder(handle_unknown='ignore', sparse_output=False))\n",
    "], verbose=True)"
   ]
  },
  {
   "cell_type": "code",
   "execution_count": 8,
   "id": "ac806c9b-0e0b-4a32-af5d-ec54a7a3b7ab",
   "metadata": {
    "tags": []
   },
   "outputs": [],
   "source": [
    "preprocess = ColumnTransformer(transformers=[\n",
    "    ('prep_num', pipe_num, int_cols),\n",
    "    ('prep_float', pipe_float, float_cols),\n",
    "    ('prep_cat', pipe_cat, cat_cols)\n",
    "], remainder='passthrough')"
   ]
  },
  {
   "cell_type": "code",
   "execution_count": 9,
   "id": "a41d7958-2368-4c06-b4d0-5c0b7eb5284e",
   "metadata": {
    "tags": []
   },
   "outputs": [
    {
     "data": {
      "text/html": [
       "<style>#sk-container-id-1 {color: black;}#sk-container-id-1 pre{padding: 0;}#sk-container-id-1 div.sk-toggleable {background-color: white;}#sk-container-id-1 label.sk-toggleable__label {cursor: pointer;display: block;width: 100%;margin-bottom: 0;padding: 0.3em;box-sizing: border-box;text-align: center;}#sk-container-id-1 label.sk-toggleable__label-arrow:before {content: \"▸\";float: left;margin-right: 0.25em;color: #696969;}#sk-container-id-1 label.sk-toggleable__label-arrow:hover:before {color: black;}#sk-container-id-1 div.sk-estimator:hover label.sk-toggleable__label-arrow:before {color: black;}#sk-container-id-1 div.sk-toggleable__content {max-height: 0;max-width: 0;overflow: hidden;text-align: left;background-color: #f0f8ff;}#sk-container-id-1 div.sk-toggleable__content pre {margin: 0.2em;color: black;border-radius: 0.25em;background-color: #f0f8ff;}#sk-container-id-1 input.sk-toggleable__control:checked~div.sk-toggleable__content {max-height: 200px;max-width: 100%;overflow: auto;}#sk-container-id-1 input.sk-toggleable__control:checked~label.sk-toggleable__label-arrow:before {content: \"▾\";}#sk-container-id-1 div.sk-estimator input.sk-toggleable__control:checked~label.sk-toggleable__label {background-color: #d4ebff;}#sk-container-id-1 div.sk-label input.sk-toggleable__control:checked~label.sk-toggleable__label {background-color: #d4ebff;}#sk-container-id-1 input.sk-hidden--visually {border: 0;clip: rect(1px 1px 1px 1px);clip: rect(1px, 1px, 1px, 1px);height: 1px;margin: -1px;overflow: hidden;padding: 0;position: absolute;width: 1px;}#sk-container-id-1 div.sk-estimator {font-family: monospace;background-color: #f0f8ff;border: 1px dotted black;border-radius: 0.25em;box-sizing: border-box;margin-bottom: 0.5em;}#sk-container-id-1 div.sk-estimator:hover {background-color: #d4ebff;}#sk-container-id-1 div.sk-parallel-item::after {content: \"\";width: 100%;border-bottom: 1px solid gray;flex-grow: 1;}#sk-container-id-1 div.sk-label:hover label.sk-toggleable__label {background-color: #d4ebff;}#sk-container-id-1 div.sk-serial::before {content: \"\";position: absolute;border-left: 1px solid gray;box-sizing: border-box;top: 0;bottom: 0;left: 50%;z-index: 0;}#sk-container-id-1 div.sk-serial {display: flex;flex-direction: column;align-items: center;background-color: white;padding-right: 0.2em;padding-left: 0.2em;position: relative;}#sk-container-id-1 div.sk-item {position: relative;z-index: 1;}#sk-container-id-1 div.sk-parallel {display: flex;align-items: stretch;justify-content: center;background-color: white;position: relative;}#sk-container-id-1 div.sk-item::before, #sk-container-id-1 div.sk-parallel-item::before {content: \"\";position: absolute;border-left: 1px solid gray;box-sizing: border-box;top: 0;bottom: 0;left: 50%;z-index: -1;}#sk-container-id-1 div.sk-parallel-item {display: flex;flex-direction: column;z-index: 1;position: relative;background-color: white;}#sk-container-id-1 div.sk-parallel-item:first-child::after {align-self: flex-end;width: 50%;}#sk-container-id-1 div.sk-parallel-item:last-child::after {align-self: flex-start;width: 50%;}#sk-container-id-1 div.sk-parallel-item:only-child::after {width: 0;}#sk-container-id-1 div.sk-dashed-wrapped {border: 1px dashed gray;margin: 0 0.4em 0.5em 0.4em;box-sizing: border-box;padding-bottom: 0.4em;background-color: white;}#sk-container-id-1 div.sk-label label {font-family: monospace;font-weight: bold;display: inline-block;line-height: 1.2em;}#sk-container-id-1 div.sk-label-container {text-align: center;}#sk-container-id-1 div.sk-container {/* jupyter's `normalize.less` sets `[hidden] { display: none; }` but bootstrap.min.css set `[hidden] { display: none !important; }` so we also need the `!important` here to be able to override the default hidden behavior on the sphinx rendered scikit-learn.org. See: https://github.com/scikit-learn/scikit-learn/issues/21755 */display: inline-block !important;position: relative;}#sk-container-id-1 div.sk-text-repr-fallback {display: none;}</style><div id=\"sk-container-id-1\" class=\"sk-top-container\"><div class=\"sk-text-repr-fallback\"><pre>ColumnTransformer(remainder=&#x27;passthrough&#x27;,\n",
       "                  transformers=[(&#x27;prep_num&#x27;,\n",
       "                                 Pipeline(steps=[(&#x27;int_imp&#x27;, SimpleImputer()),\n",
       "                                                 (&#x27;num_prep&#x27;, MinMaxScaler())],\n",
       "                                          verbose=True),\n",
       "                                 Index([&#x27;numeric_col_0&#x27;, &#x27;numeric_col_1&#x27;], dtype=&#x27;object&#x27;)),\n",
       "                                (&#x27;prep_float&#x27;,\n",
       "                                 Pipeline(steps=[(&#x27;float_imp&#x27;,\n",
       "                                                  SimpleImputer(strategy=&#x27;median&#x27;)),\n",
       "                                                 (&#x27;float_prep&#x27;,\n",
       "                                                  RobustScaler())],\n",
       "                                          verbose=True),\n",
       "                                 Index([&#x27;float_col_0&#x27;, &#x27;float_col_1&#x27;], dtype=&#x27;object&#x27;)),\n",
       "                                (&#x27;prep_cat&#x27;,\n",
       "                                 Pipeline(steps=[(&#x27;cat_imp&#x27;,\n",
       "                                                  SimpleImputer(strategy=&#x27;most_frequent&#x27;)),\n",
       "                                                 (&#x27;cat_prep&#x27;,\n",
       "                                                  OneHotEncoder(handle_unknown=&#x27;ignore&#x27;,\n",
       "                                                                sparse_output=False))],\n",
       "                                          verbose=True),\n",
       "                                 Index([&#x27;categorical_col_0&#x27;, &#x27;categorical_col_1&#x27;], dtype=&#x27;object&#x27;))])</pre><b>In a Jupyter environment, please rerun this cell to show the HTML representation or trust the notebook. <br />On GitHub, the HTML representation is unable to render, please try loading this page with nbviewer.org.</b></div><div class=\"sk-container\" hidden><div class=\"sk-item sk-dashed-wrapped\"><div class=\"sk-label-container\"><div class=\"sk-label sk-toggleable\"><input class=\"sk-toggleable__control sk-hidden--visually\" id=\"sk-estimator-id-1\" type=\"checkbox\" ><label for=\"sk-estimator-id-1\" class=\"sk-toggleable__label sk-toggleable__label-arrow\">ColumnTransformer</label><div class=\"sk-toggleable__content\"><pre>ColumnTransformer(remainder=&#x27;passthrough&#x27;,\n",
       "                  transformers=[(&#x27;prep_num&#x27;,\n",
       "                                 Pipeline(steps=[(&#x27;int_imp&#x27;, SimpleImputer()),\n",
       "                                                 (&#x27;num_prep&#x27;, MinMaxScaler())],\n",
       "                                          verbose=True),\n",
       "                                 Index([&#x27;numeric_col_0&#x27;, &#x27;numeric_col_1&#x27;], dtype=&#x27;object&#x27;)),\n",
       "                                (&#x27;prep_float&#x27;,\n",
       "                                 Pipeline(steps=[(&#x27;float_imp&#x27;,\n",
       "                                                  SimpleImputer(strategy=&#x27;median&#x27;)),\n",
       "                                                 (&#x27;float_prep&#x27;,\n",
       "                                                  RobustScaler())],\n",
       "                                          verbose=True),\n",
       "                                 Index([&#x27;float_col_0&#x27;, &#x27;float_col_1&#x27;], dtype=&#x27;object&#x27;)),\n",
       "                                (&#x27;prep_cat&#x27;,\n",
       "                                 Pipeline(steps=[(&#x27;cat_imp&#x27;,\n",
       "                                                  SimpleImputer(strategy=&#x27;most_frequent&#x27;)),\n",
       "                                                 (&#x27;cat_prep&#x27;,\n",
       "                                                  OneHotEncoder(handle_unknown=&#x27;ignore&#x27;,\n",
       "                                                                sparse_output=False))],\n",
       "                                          verbose=True),\n",
       "                                 Index([&#x27;categorical_col_0&#x27;, &#x27;categorical_col_1&#x27;], dtype=&#x27;object&#x27;))])</pre></div></div></div><div class=\"sk-parallel\"><div class=\"sk-parallel-item\"><div class=\"sk-item\"><div class=\"sk-label-container\"><div class=\"sk-label sk-toggleable\"><input class=\"sk-toggleable__control sk-hidden--visually\" id=\"sk-estimator-id-2\" type=\"checkbox\" ><label for=\"sk-estimator-id-2\" class=\"sk-toggleable__label sk-toggleable__label-arrow\">prep_num</label><div class=\"sk-toggleable__content\"><pre>Index([&#x27;numeric_col_0&#x27;, &#x27;numeric_col_1&#x27;], dtype=&#x27;object&#x27;)</pre></div></div></div><div class=\"sk-serial\"><div class=\"sk-item\"><div class=\"sk-serial\"><div class=\"sk-item\"><div class=\"sk-estimator sk-toggleable\"><input class=\"sk-toggleable__control sk-hidden--visually\" id=\"sk-estimator-id-3\" type=\"checkbox\" ><label for=\"sk-estimator-id-3\" class=\"sk-toggleable__label sk-toggleable__label-arrow\">SimpleImputer</label><div class=\"sk-toggleable__content\"><pre>SimpleImputer()</pre></div></div></div><div class=\"sk-item\"><div class=\"sk-estimator sk-toggleable\"><input class=\"sk-toggleable__control sk-hidden--visually\" id=\"sk-estimator-id-4\" type=\"checkbox\" ><label for=\"sk-estimator-id-4\" class=\"sk-toggleable__label sk-toggleable__label-arrow\">MinMaxScaler</label><div class=\"sk-toggleable__content\"><pre>MinMaxScaler()</pre></div></div></div></div></div></div></div></div><div class=\"sk-parallel-item\"><div class=\"sk-item\"><div class=\"sk-label-container\"><div class=\"sk-label sk-toggleable\"><input class=\"sk-toggleable__control sk-hidden--visually\" id=\"sk-estimator-id-5\" type=\"checkbox\" ><label for=\"sk-estimator-id-5\" class=\"sk-toggleable__label sk-toggleable__label-arrow\">prep_float</label><div class=\"sk-toggleable__content\"><pre>Index([&#x27;float_col_0&#x27;, &#x27;float_col_1&#x27;], dtype=&#x27;object&#x27;)</pre></div></div></div><div class=\"sk-serial\"><div class=\"sk-item\"><div class=\"sk-serial\"><div class=\"sk-item\"><div class=\"sk-estimator sk-toggleable\"><input class=\"sk-toggleable__control sk-hidden--visually\" id=\"sk-estimator-id-6\" type=\"checkbox\" ><label for=\"sk-estimator-id-6\" class=\"sk-toggleable__label sk-toggleable__label-arrow\">SimpleImputer</label><div class=\"sk-toggleable__content\"><pre>SimpleImputer(strategy=&#x27;median&#x27;)</pre></div></div></div><div class=\"sk-item\"><div class=\"sk-estimator sk-toggleable\"><input class=\"sk-toggleable__control sk-hidden--visually\" id=\"sk-estimator-id-7\" type=\"checkbox\" ><label for=\"sk-estimator-id-7\" class=\"sk-toggleable__label sk-toggleable__label-arrow\">RobustScaler</label><div class=\"sk-toggleable__content\"><pre>RobustScaler()</pre></div></div></div></div></div></div></div></div><div class=\"sk-parallel-item\"><div class=\"sk-item\"><div class=\"sk-label-container\"><div class=\"sk-label sk-toggleable\"><input class=\"sk-toggleable__control sk-hidden--visually\" id=\"sk-estimator-id-8\" type=\"checkbox\" ><label for=\"sk-estimator-id-8\" class=\"sk-toggleable__label sk-toggleable__label-arrow\">prep_cat</label><div class=\"sk-toggleable__content\"><pre>Index([&#x27;categorical_col_0&#x27;, &#x27;categorical_col_1&#x27;], dtype=&#x27;object&#x27;)</pre></div></div></div><div class=\"sk-serial\"><div class=\"sk-item\"><div class=\"sk-serial\"><div class=\"sk-item\"><div class=\"sk-estimator sk-toggleable\"><input class=\"sk-toggleable__control sk-hidden--visually\" id=\"sk-estimator-id-9\" type=\"checkbox\" ><label for=\"sk-estimator-id-9\" class=\"sk-toggleable__label sk-toggleable__label-arrow\">SimpleImputer</label><div class=\"sk-toggleable__content\"><pre>SimpleImputer(strategy=&#x27;most_frequent&#x27;)</pre></div></div></div><div class=\"sk-item\"><div class=\"sk-estimator sk-toggleable\"><input class=\"sk-toggleable__control sk-hidden--visually\" id=\"sk-estimator-id-10\" type=\"checkbox\" ><label for=\"sk-estimator-id-10\" class=\"sk-toggleable__label sk-toggleable__label-arrow\">OneHotEncoder</label><div class=\"sk-toggleable__content\"><pre>OneHotEncoder(handle_unknown=&#x27;ignore&#x27;, sparse_output=False)</pre></div></div></div></div></div></div></div></div><div class=\"sk-parallel-item\"><div class=\"sk-item\"><div class=\"sk-label-container\"><div class=\"sk-label sk-toggleable\"><input class=\"sk-toggleable__control sk-hidden--visually\" id=\"sk-estimator-id-11\" type=\"checkbox\" ><label for=\"sk-estimator-id-11\" class=\"sk-toggleable__label sk-toggleable__label-arrow\">remainder</label><div class=\"sk-toggleable__content\"><pre></pre></div></div></div><div class=\"sk-serial\"><div class=\"sk-item\"><div class=\"sk-estimator sk-toggleable\"><input class=\"sk-toggleable__control sk-hidden--visually\" id=\"sk-estimator-id-12\" type=\"checkbox\" ><label for=\"sk-estimator-id-12\" class=\"sk-toggleable__label sk-toggleable__label-arrow\">passthrough</label><div class=\"sk-toggleable__content\"><pre>passthrough</pre></div></div></div></div></div></div></div></div></div></div>"
      ],
      "text/plain": [
       "ColumnTransformer(remainder='passthrough',\n",
       "                  transformers=[('prep_num',\n",
       "                                 Pipeline(steps=[('int_imp', SimpleImputer()),\n",
       "                                                 ('num_prep', MinMaxScaler())],\n",
       "                                          verbose=True),\n",
       "                                 Index(['numeric_col_0', 'numeric_col_1'], dtype='object')),\n",
       "                                ('prep_float',\n",
       "                                 Pipeline(steps=[('float_imp',\n",
       "                                                  SimpleImputer(strategy='median')),\n",
       "                                                 ('float_prep',\n",
       "                                                  RobustScaler())],\n",
       "                                          verbose=True),\n",
       "                                 Index(['float_col_0', 'float_col_1'], dtype='object')),\n",
       "                                ('prep_cat',\n",
       "                                 Pipeline(steps=[('cat_imp',\n",
       "                                                  SimpleImputer(strategy='most_frequent')),\n",
       "                                                 ('cat_prep',\n",
       "                                                  OneHotEncoder(handle_unknown='ignore',\n",
       "                                                                sparse_output=False))],\n",
       "                                          verbose=True),\n",
       "                                 Index(['categorical_col_0', 'categorical_col_1'], dtype='object'))])"
      ]
     },
     "execution_count": 9,
     "metadata": {},
     "output_type": "execute_result"
    }
   ],
   "source": [
    "preprocess"
   ]
  },
  {
   "cell_type": "code",
   "execution_count": 21,
   "id": "a55a9928-86b4-4938-94b6-24c80a6733b1",
   "metadata": {
    "tags": []
   },
   "outputs": [],
   "source": [
    "pipe_model = Pipeline(steps=[\n",
    "    ('preprocess', preprocess),\n",
    "    ('model', LinearRegression())\n",
    "])"
   ]
  },
  {
   "cell_type": "code",
   "execution_count": 22,
   "id": "94c46371-b6fd-4952-a140-807de7087aaa",
   "metadata": {
    "tags": []
   },
   "outputs": [],
   "source": [
    "model = TransformedTargetRegressor(\n",
    "    regressor=pipe_model, transformer=PowerTransformer('box-cox'))"
   ]
  },
  {
   "cell_type": "code",
   "execution_count": 23,
   "id": "a5edfce5-6c5e-4315-ab75-e01f2ae84afc",
   "metadata": {
    "tags": []
   },
   "outputs": [
    {
     "data": {
      "text/html": [
       "<style>#sk-container-id-4 {color: black;}#sk-container-id-4 pre{padding: 0;}#sk-container-id-4 div.sk-toggleable {background-color: white;}#sk-container-id-4 label.sk-toggleable__label {cursor: pointer;display: block;width: 100%;margin-bottom: 0;padding: 0.3em;box-sizing: border-box;text-align: center;}#sk-container-id-4 label.sk-toggleable__label-arrow:before {content: \"▸\";float: left;margin-right: 0.25em;color: #696969;}#sk-container-id-4 label.sk-toggleable__label-arrow:hover:before {color: black;}#sk-container-id-4 div.sk-estimator:hover label.sk-toggleable__label-arrow:before {color: black;}#sk-container-id-4 div.sk-toggleable__content {max-height: 0;max-width: 0;overflow: hidden;text-align: left;background-color: #f0f8ff;}#sk-container-id-4 div.sk-toggleable__content pre {margin: 0.2em;color: black;border-radius: 0.25em;background-color: #f0f8ff;}#sk-container-id-4 input.sk-toggleable__control:checked~div.sk-toggleable__content {max-height: 200px;max-width: 100%;overflow: auto;}#sk-container-id-4 input.sk-toggleable__control:checked~label.sk-toggleable__label-arrow:before {content: \"▾\";}#sk-container-id-4 div.sk-estimator input.sk-toggleable__control:checked~label.sk-toggleable__label {background-color: #d4ebff;}#sk-container-id-4 div.sk-label input.sk-toggleable__control:checked~label.sk-toggleable__label {background-color: #d4ebff;}#sk-container-id-4 input.sk-hidden--visually {border: 0;clip: rect(1px 1px 1px 1px);clip: rect(1px, 1px, 1px, 1px);height: 1px;margin: -1px;overflow: hidden;padding: 0;position: absolute;width: 1px;}#sk-container-id-4 div.sk-estimator {font-family: monospace;background-color: #f0f8ff;border: 1px dotted black;border-radius: 0.25em;box-sizing: border-box;margin-bottom: 0.5em;}#sk-container-id-4 div.sk-estimator:hover {background-color: #d4ebff;}#sk-container-id-4 div.sk-parallel-item::after {content: \"\";width: 100%;border-bottom: 1px solid gray;flex-grow: 1;}#sk-container-id-4 div.sk-label:hover label.sk-toggleable__label {background-color: #d4ebff;}#sk-container-id-4 div.sk-serial::before {content: \"\";position: absolute;border-left: 1px solid gray;box-sizing: border-box;top: 0;bottom: 0;left: 50%;z-index: 0;}#sk-container-id-4 div.sk-serial {display: flex;flex-direction: column;align-items: center;background-color: white;padding-right: 0.2em;padding-left: 0.2em;position: relative;}#sk-container-id-4 div.sk-item {position: relative;z-index: 1;}#sk-container-id-4 div.sk-parallel {display: flex;align-items: stretch;justify-content: center;background-color: white;position: relative;}#sk-container-id-4 div.sk-item::before, #sk-container-id-4 div.sk-parallel-item::before {content: \"\";position: absolute;border-left: 1px solid gray;box-sizing: border-box;top: 0;bottom: 0;left: 50%;z-index: -1;}#sk-container-id-4 div.sk-parallel-item {display: flex;flex-direction: column;z-index: 1;position: relative;background-color: white;}#sk-container-id-4 div.sk-parallel-item:first-child::after {align-self: flex-end;width: 50%;}#sk-container-id-4 div.sk-parallel-item:last-child::after {align-self: flex-start;width: 50%;}#sk-container-id-4 div.sk-parallel-item:only-child::after {width: 0;}#sk-container-id-4 div.sk-dashed-wrapped {border: 1px dashed gray;margin: 0 0.4em 0.5em 0.4em;box-sizing: border-box;padding-bottom: 0.4em;background-color: white;}#sk-container-id-4 div.sk-label label {font-family: monospace;font-weight: bold;display: inline-block;line-height: 1.2em;}#sk-container-id-4 div.sk-label-container {text-align: center;}#sk-container-id-4 div.sk-container {/* jupyter's `normalize.less` sets `[hidden] { display: none; }` but bootstrap.min.css set `[hidden] { display: none !important; }` so we also need the `!important` here to be able to override the default hidden behavior on the sphinx rendered scikit-learn.org. See: https://github.com/scikit-learn/scikit-learn/issues/21755 */display: inline-block !important;position: relative;}#sk-container-id-4 div.sk-text-repr-fallback {display: none;}</style><div id=\"sk-container-id-4\" class=\"sk-top-container\"><div class=\"sk-text-repr-fallback\"><pre>TransformedTargetRegressor(regressor=Pipeline(steps=[(&#x27;preprocess&#x27;,\n",
       "                                                      ColumnTransformer(remainder=&#x27;passthrough&#x27;,\n",
       "                                                                        transformers=[(&#x27;prep_num&#x27;,\n",
       "                                                                                       Pipeline(steps=[(&#x27;int_imp&#x27;,\n",
       "                                                                                                        SimpleImputer()),\n",
       "                                                                                                       (&#x27;num_prep&#x27;,\n",
       "                                                                                                        MinMaxScaler())],\n",
       "                                                                                                verbose=True),\n",
       "                                                                                       Index([&#x27;numeric_col_0&#x27;, &#x27;numeric_col_1&#x27;], dtype=&#x27;object&#x27;)),\n",
       "                                                                                      (&#x27;prep_float&#x27;,\n",
       "                                                                                       Pipeline(steps=[(&#x27;float_imp&#x27;,\n",
       "                                                                                                        SimpleImputer(strategy=&#x27;medi...\n",
       "                                                                                       Index([&#x27;float_col_0&#x27;, &#x27;float_col_1&#x27;], dtype=&#x27;object&#x27;)),\n",
       "                                                                                      (&#x27;prep_cat&#x27;,\n",
       "                                                                                       Pipeline(steps=[(&#x27;cat_imp&#x27;,\n",
       "                                                                                                        SimpleImputer(strategy=&#x27;most_frequent&#x27;)),\n",
       "                                                                                                       (&#x27;cat_prep&#x27;,\n",
       "                                                                                                        OneHotEncoder(handle_unknown=&#x27;ignore&#x27;,\n",
       "                                                                                                                      sparse_output=False))],\n",
       "                                                                                                verbose=True),\n",
       "                                                                                       Index([&#x27;categorical_col_0&#x27;, &#x27;categorical_col_1&#x27;], dtype=&#x27;object&#x27;))])),\n",
       "                                                     (&#x27;model&#x27;,\n",
       "                                                      LinearRegression())]),\n",
       "                           transformer=PowerTransformer(method=&#x27;box-cox&#x27;))</pre><b>In a Jupyter environment, please rerun this cell to show the HTML representation or trust the notebook. <br />On GitHub, the HTML representation is unable to render, please try loading this page with nbviewer.org.</b></div><div class=\"sk-container\" hidden><div class=\"sk-item sk-dashed-wrapped\"><div class=\"sk-label-container\"><div class=\"sk-label sk-toggleable\"><input class=\"sk-toggleable__control sk-hidden--visually\" id=\"sk-estimator-id-35\" type=\"checkbox\" ><label for=\"sk-estimator-id-35\" class=\"sk-toggleable__label sk-toggleable__label-arrow\">TransformedTargetRegressor</label><div class=\"sk-toggleable__content\"><pre>TransformedTargetRegressor(regressor=Pipeline(steps=[(&#x27;preprocess&#x27;,\n",
       "                                                      ColumnTransformer(remainder=&#x27;passthrough&#x27;,\n",
       "                                                                        transformers=[(&#x27;prep_num&#x27;,\n",
       "                                                                                       Pipeline(steps=[(&#x27;int_imp&#x27;,\n",
       "                                                                                                        SimpleImputer()),\n",
       "                                                                                                       (&#x27;num_prep&#x27;,\n",
       "                                                                                                        MinMaxScaler())],\n",
       "                                                                                                verbose=True),\n",
       "                                                                                       Index([&#x27;numeric_col_0&#x27;, &#x27;numeric_col_1&#x27;], dtype=&#x27;object&#x27;)),\n",
       "                                                                                      (&#x27;prep_float&#x27;,\n",
       "                                                                                       Pipeline(steps=[(&#x27;float_imp&#x27;,\n",
       "                                                                                                        SimpleImputer(strategy=&#x27;medi...\n",
       "                                                                                       Index([&#x27;float_col_0&#x27;, &#x27;float_col_1&#x27;], dtype=&#x27;object&#x27;)),\n",
       "                                                                                      (&#x27;prep_cat&#x27;,\n",
       "                                                                                       Pipeline(steps=[(&#x27;cat_imp&#x27;,\n",
       "                                                                                                        SimpleImputer(strategy=&#x27;most_frequent&#x27;)),\n",
       "                                                                                                       (&#x27;cat_prep&#x27;,\n",
       "                                                                                                        OneHotEncoder(handle_unknown=&#x27;ignore&#x27;,\n",
       "                                                                                                                      sparse_output=False))],\n",
       "                                                                                                verbose=True),\n",
       "                                                                                       Index([&#x27;categorical_col_0&#x27;, &#x27;categorical_col_1&#x27;], dtype=&#x27;object&#x27;))])),\n",
       "                                                     (&#x27;model&#x27;,\n",
       "                                                      LinearRegression())]),\n",
       "                           transformer=PowerTransformer(method=&#x27;box-cox&#x27;))</pre></div></div></div><div class=\"sk-parallel\"><div class=\"sk-parallel-item\"><div class=\"sk-item\"><div class=\"sk-label-container\"><div class=\"sk-label sk-toggleable\"><input class=\"sk-toggleable__control sk-hidden--visually\" id=\"sk-estimator-id-36\" type=\"checkbox\" ><label for=\"sk-estimator-id-36\" class=\"sk-toggleable__label sk-toggleable__label-arrow\">regressor: Pipeline</label><div class=\"sk-toggleable__content\"><pre>Pipeline(steps=[(&#x27;preprocess&#x27;,\n",
       "                 ColumnTransformer(remainder=&#x27;passthrough&#x27;,\n",
       "                                   transformers=[(&#x27;prep_num&#x27;,\n",
       "                                                  Pipeline(steps=[(&#x27;int_imp&#x27;,\n",
       "                                                                   SimpleImputer()),\n",
       "                                                                  (&#x27;num_prep&#x27;,\n",
       "                                                                   MinMaxScaler())],\n",
       "                                                           verbose=True),\n",
       "                                                  Index([&#x27;numeric_col_0&#x27;, &#x27;numeric_col_1&#x27;], dtype=&#x27;object&#x27;)),\n",
       "                                                 (&#x27;prep_float&#x27;,\n",
       "                                                  Pipeline(steps=[(&#x27;float_imp&#x27;,\n",
       "                                                                   SimpleImputer(strategy=&#x27;median&#x27;)),\n",
       "                                                                  (&#x27;float_prep&#x27;,\n",
       "                                                                   RobustScaler())],\n",
       "                                                           verbose=True),\n",
       "                                                  Index([&#x27;float_col_0&#x27;, &#x27;float_col_1&#x27;], dtype=&#x27;object&#x27;)),\n",
       "                                                 (&#x27;prep_cat&#x27;,\n",
       "                                                  Pipeline(steps=[(&#x27;cat_imp&#x27;,\n",
       "                                                                   SimpleImputer(strategy=&#x27;most_frequent&#x27;)),\n",
       "                                                                  (&#x27;cat_prep&#x27;,\n",
       "                                                                   OneHotEncoder(handle_unknown=&#x27;ignore&#x27;,\n",
       "                                                                                 sparse_output=False))],\n",
       "                                                           verbose=True),\n",
       "                                                  Index([&#x27;categorical_col_0&#x27;, &#x27;categorical_col_1&#x27;], dtype=&#x27;object&#x27;))])),\n",
       "                (&#x27;model&#x27;, LinearRegression())])</pre></div></div></div><div class=\"sk-serial\"><div class=\"sk-item\"><div class=\"sk-serial\"><div class=\"sk-item sk-dashed-wrapped\"><div class=\"sk-label-container\"><div class=\"sk-label sk-toggleable\"><input class=\"sk-toggleable__control sk-hidden--visually\" id=\"sk-estimator-id-37\" type=\"checkbox\" ><label for=\"sk-estimator-id-37\" class=\"sk-toggleable__label sk-toggleable__label-arrow\">preprocess: ColumnTransformer</label><div class=\"sk-toggleable__content\"><pre>ColumnTransformer(remainder=&#x27;passthrough&#x27;,\n",
       "                  transformers=[(&#x27;prep_num&#x27;,\n",
       "                                 Pipeline(steps=[(&#x27;int_imp&#x27;, SimpleImputer()),\n",
       "                                                 (&#x27;num_prep&#x27;, MinMaxScaler())],\n",
       "                                          verbose=True),\n",
       "                                 Index([&#x27;numeric_col_0&#x27;, &#x27;numeric_col_1&#x27;], dtype=&#x27;object&#x27;)),\n",
       "                                (&#x27;prep_float&#x27;,\n",
       "                                 Pipeline(steps=[(&#x27;float_imp&#x27;,\n",
       "                                                  SimpleImputer(strategy=&#x27;median&#x27;)),\n",
       "                                                 (&#x27;float_prep&#x27;,\n",
       "                                                  RobustScaler())],\n",
       "                                          verbose=True),\n",
       "                                 Index([&#x27;float_col_0&#x27;, &#x27;float_col_1&#x27;], dtype=&#x27;object&#x27;)),\n",
       "                                (&#x27;prep_cat&#x27;,\n",
       "                                 Pipeline(steps=[(&#x27;cat_imp&#x27;,\n",
       "                                                  SimpleImputer(strategy=&#x27;most_frequent&#x27;)),\n",
       "                                                 (&#x27;cat_prep&#x27;,\n",
       "                                                  OneHotEncoder(handle_unknown=&#x27;ignore&#x27;,\n",
       "                                                                sparse_output=False))],\n",
       "                                          verbose=True),\n",
       "                                 Index([&#x27;categorical_col_0&#x27;, &#x27;categorical_col_1&#x27;], dtype=&#x27;object&#x27;))])</pre></div></div></div><div class=\"sk-parallel\"><div class=\"sk-parallel-item\"><div class=\"sk-item\"><div class=\"sk-label-container\"><div class=\"sk-label sk-toggleable\"><input class=\"sk-toggleable__control sk-hidden--visually\" id=\"sk-estimator-id-38\" type=\"checkbox\" ><label for=\"sk-estimator-id-38\" class=\"sk-toggleable__label sk-toggleable__label-arrow\">prep_num</label><div class=\"sk-toggleable__content\"><pre>Index([&#x27;numeric_col_0&#x27;, &#x27;numeric_col_1&#x27;], dtype=&#x27;object&#x27;)</pre></div></div></div><div class=\"sk-serial\"><div class=\"sk-item\"><div class=\"sk-serial\"><div class=\"sk-item\"><div class=\"sk-estimator sk-toggleable\"><input class=\"sk-toggleable__control sk-hidden--visually\" id=\"sk-estimator-id-39\" type=\"checkbox\" ><label for=\"sk-estimator-id-39\" class=\"sk-toggleable__label sk-toggleable__label-arrow\">SimpleImputer</label><div class=\"sk-toggleable__content\"><pre>SimpleImputer()</pre></div></div></div><div class=\"sk-item\"><div class=\"sk-estimator sk-toggleable\"><input class=\"sk-toggleable__control sk-hidden--visually\" id=\"sk-estimator-id-40\" type=\"checkbox\" ><label for=\"sk-estimator-id-40\" class=\"sk-toggleable__label sk-toggleable__label-arrow\">MinMaxScaler</label><div class=\"sk-toggleable__content\"><pre>MinMaxScaler()</pre></div></div></div></div></div></div></div></div><div class=\"sk-parallel-item\"><div class=\"sk-item\"><div class=\"sk-label-container\"><div class=\"sk-label sk-toggleable\"><input class=\"sk-toggleable__control sk-hidden--visually\" id=\"sk-estimator-id-41\" type=\"checkbox\" ><label for=\"sk-estimator-id-41\" class=\"sk-toggleable__label sk-toggleable__label-arrow\">prep_float</label><div class=\"sk-toggleable__content\"><pre>Index([&#x27;float_col_0&#x27;, &#x27;float_col_1&#x27;], dtype=&#x27;object&#x27;)</pre></div></div></div><div class=\"sk-serial\"><div class=\"sk-item\"><div class=\"sk-serial\"><div class=\"sk-item\"><div class=\"sk-estimator sk-toggleable\"><input class=\"sk-toggleable__control sk-hidden--visually\" id=\"sk-estimator-id-42\" type=\"checkbox\" ><label for=\"sk-estimator-id-42\" class=\"sk-toggleable__label sk-toggleable__label-arrow\">SimpleImputer</label><div class=\"sk-toggleable__content\"><pre>SimpleImputer(strategy=&#x27;median&#x27;)</pre></div></div></div><div class=\"sk-item\"><div class=\"sk-estimator sk-toggleable\"><input class=\"sk-toggleable__control sk-hidden--visually\" id=\"sk-estimator-id-43\" type=\"checkbox\" ><label for=\"sk-estimator-id-43\" class=\"sk-toggleable__label sk-toggleable__label-arrow\">RobustScaler</label><div class=\"sk-toggleable__content\"><pre>RobustScaler()</pre></div></div></div></div></div></div></div></div><div class=\"sk-parallel-item\"><div class=\"sk-item\"><div class=\"sk-label-container\"><div class=\"sk-label sk-toggleable\"><input class=\"sk-toggleable__control sk-hidden--visually\" id=\"sk-estimator-id-44\" type=\"checkbox\" ><label for=\"sk-estimator-id-44\" class=\"sk-toggleable__label sk-toggleable__label-arrow\">prep_cat</label><div class=\"sk-toggleable__content\"><pre>Index([&#x27;categorical_col_0&#x27;, &#x27;categorical_col_1&#x27;], dtype=&#x27;object&#x27;)</pre></div></div></div><div class=\"sk-serial\"><div class=\"sk-item\"><div class=\"sk-serial\"><div class=\"sk-item\"><div class=\"sk-estimator sk-toggleable\"><input class=\"sk-toggleable__control sk-hidden--visually\" id=\"sk-estimator-id-45\" type=\"checkbox\" ><label for=\"sk-estimator-id-45\" class=\"sk-toggleable__label sk-toggleable__label-arrow\">SimpleImputer</label><div class=\"sk-toggleable__content\"><pre>SimpleImputer(strategy=&#x27;most_frequent&#x27;)</pre></div></div></div><div class=\"sk-item\"><div class=\"sk-estimator sk-toggleable\"><input class=\"sk-toggleable__control sk-hidden--visually\" id=\"sk-estimator-id-46\" type=\"checkbox\" ><label for=\"sk-estimator-id-46\" class=\"sk-toggleable__label sk-toggleable__label-arrow\">OneHotEncoder</label><div class=\"sk-toggleable__content\"><pre>OneHotEncoder(handle_unknown=&#x27;ignore&#x27;, sparse_output=False)</pre></div></div></div></div></div></div></div></div><div class=\"sk-parallel-item\"><div class=\"sk-item\"><div class=\"sk-label-container\"><div class=\"sk-label sk-toggleable\"><input class=\"sk-toggleable__control sk-hidden--visually\" id=\"sk-estimator-id-47\" type=\"checkbox\" ><label for=\"sk-estimator-id-47\" class=\"sk-toggleable__label sk-toggleable__label-arrow\">remainder</label><div class=\"sk-toggleable__content\"><pre></pre></div></div></div><div class=\"sk-serial\"><div class=\"sk-item\"><div class=\"sk-estimator sk-toggleable\"><input class=\"sk-toggleable__control sk-hidden--visually\" id=\"sk-estimator-id-48\" type=\"checkbox\" ><label for=\"sk-estimator-id-48\" class=\"sk-toggleable__label sk-toggleable__label-arrow\">passthrough</label><div class=\"sk-toggleable__content\"><pre>passthrough</pre></div></div></div></div></div></div></div></div><div class=\"sk-item\"><div class=\"sk-estimator sk-toggleable\"><input class=\"sk-toggleable__control sk-hidden--visually\" id=\"sk-estimator-id-49\" type=\"checkbox\" ><label for=\"sk-estimator-id-49\" class=\"sk-toggleable__label sk-toggleable__label-arrow\">LinearRegression</label><div class=\"sk-toggleable__content\"><pre>LinearRegression()</pre></div></div></div></div></div></div></div></div><div class=\"sk-parallel-item\"><div class=\"sk-item\"><div class=\"sk-label-container\"><div class=\"sk-label sk-toggleable\"><input class=\"sk-toggleable__control sk-hidden--visually\" id=\"sk-estimator-id-50\" type=\"checkbox\" ><label for=\"sk-estimator-id-50\" class=\"sk-toggleable__label sk-toggleable__label-arrow\">transformer: PowerTransformer</label><div class=\"sk-toggleable__content\"><pre>PowerTransformer(method=&#x27;box-cox&#x27;)</pre></div></div></div><div class=\"sk-serial\"><div class=\"sk-item\"><div class=\"sk-estimator sk-toggleable\"><input class=\"sk-toggleable__control sk-hidden--visually\" id=\"sk-estimator-id-51\" type=\"checkbox\" ><label for=\"sk-estimator-id-51\" class=\"sk-toggleable__label sk-toggleable__label-arrow\">PowerTransformer</label><div class=\"sk-toggleable__content\"><pre>PowerTransformer(method=&#x27;box-cox&#x27;)</pre></div></div></div></div></div></div></div></div></div></div>"
      ],
      "text/plain": [
       "TransformedTargetRegressor(regressor=Pipeline(steps=[('preprocess',\n",
       "                                                      ColumnTransformer(remainder='passthrough',\n",
       "                                                                        transformers=[('prep_num',\n",
       "                                                                                       Pipeline(steps=[('int_imp',\n",
       "                                                                                                        SimpleImputer()),\n",
       "                                                                                                       ('num_prep',\n",
       "                                                                                                        MinMaxScaler())],\n",
       "                                                                                                verbose=True),\n",
       "                                                                                       Index(['numeric_col_0', 'numeric_col_1'], dtype='object')),\n",
       "                                                                                      ('prep_float',\n",
       "                                                                                       Pipeline(steps=[('float_imp',\n",
       "                                                                                                        SimpleImputer(strategy='medi...\n",
       "                                                                                       Index(['float_col_0', 'float_col_1'], dtype='object')),\n",
       "                                                                                      ('prep_cat',\n",
       "                                                                                       Pipeline(steps=[('cat_imp',\n",
       "                                                                                                        SimpleImputer(strategy='most_frequent')),\n",
       "                                                                                                       ('cat_prep',\n",
       "                                                                                                        OneHotEncoder(handle_unknown='ignore',\n",
       "                                                                                                                      sparse_output=False))],\n",
       "                                                                                                verbose=True),\n",
       "                                                                                       Index(['categorical_col_0', 'categorical_col_1'], dtype='object'))])),\n",
       "                                                     ('model',\n",
       "                                                      LinearRegression())]),\n",
       "                           transformer=PowerTransformer(method='box-cox'))"
      ]
     },
     "execution_count": 23,
     "metadata": {},
     "output_type": "execute_result"
    }
   ],
   "source": [
    "model"
   ]
  },
  {
   "cell_type": "code",
   "execution_count": 25,
   "id": "01e36cd8-4f5f-4c0d-90cd-5343b81c0cd8",
   "metadata": {
    "tags": []
   },
   "outputs": [
    {
     "name": "stdout",
     "output_type": "stream",
     "text": [
      "[Pipeline] ........... (step 1 of 2) Processing int_imp, total=   0.0s\n",
      "[Pipeline] .......... (step 2 of 2) Processing num_prep, total=   0.0s\n",
      "[Pipeline] ......... (step 1 of 2) Processing float_imp, total=   0.0s\n",
      "[Pipeline] ........ (step 2 of 2) Processing float_prep, total=   0.0s\n",
      "[Pipeline] ........... (step 1 of 2) Processing cat_imp, total=   0.0s\n",
      "[Pipeline] .......... (step 2 of 2) Processing cat_prep, total=   0.0s\n"
     ]
    },
    {
     "name": "stderr",
     "output_type": "stream",
     "text": [
      "M:\\disco M\\Python\\PythonProjects\\env\\Lib\\site-packages\\sklearn\\base.py:457: UserWarning: X has feature names, but PowerTransformer was fitted without feature names\n",
      "  warnings.warn(\n"
     ]
    },
    {
     "data": {
      "text/html": [
       "<style>#sk-container-id-5 {color: black;}#sk-container-id-5 pre{padding: 0;}#sk-container-id-5 div.sk-toggleable {background-color: white;}#sk-container-id-5 label.sk-toggleable__label {cursor: pointer;display: block;width: 100%;margin-bottom: 0;padding: 0.3em;box-sizing: border-box;text-align: center;}#sk-container-id-5 label.sk-toggleable__label-arrow:before {content: \"▸\";float: left;margin-right: 0.25em;color: #696969;}#sk-container-id-5 label.sk-toggleable__label-arrow:hover:before {color: black;}#sk-container-id-5 div.sk-estimator:hover label.sk-toggleable__label-arrow:before {color: black;}#sk-container-id-5 div.sk-toggleable__content {max-height: 0;max-width: 0;overflow: hidden;text-align: left;background-color: #f0f8ff;}#sk-container-id-5 div.sk-toggleable__content pre {margin: 0.2em;color: black;border-radius: 0.25em;background-color: #f0f8ff;}#sk-container-id-5 input.sk-toggleable__control:checked~div.sk-toggleable__content {max-height: 200px;max-width: 100%;overflow: auto;}#sk-container-id-5 input.sk-toggleable__control:checked~label.sk-toggleable__label-arrow:before {content: \"▾\";}#sk-container-id-5 div.sk-estimator input.sk-toggleable__control:checked~label.sk-toggleable__label {background-color: #d4ebff;}#sk-container-id-5 div.sk-label input.sk-toggleable__control:checked~label.sk-toggleable__label {background-color: #d4ebff;}#sk-container-id-5 input.sk-hidden--visually {border: 0;clip: rect(1px 1px 1px 1px);clip: rect(1px, 1px, 1px, 1px);height: 1px;margin: -1px;overflow: hidden;padding: 0;position: absolute;width: 1px;}#sk-container-id-5 div.sk-estimator {font-family: monospace;background-color: #f0f8ff;border: 1px dotted black;border-radius: 0.25em;box-sizing: border-box;margin-bottom: 0.5em;}#sk-container-id-5 div.sk-estimator:hover {background-color: #d4ebff;}#sk-container-id-5 div.sk-parallel-item::after {content: \"\";width: 100%;border-bottom: 1px solid gray;flex-grow: 1;}#sk-container-id-5 div.sk-label:hover label.sk-toggleable__label {background-color: #d4ebff;}#sk-container-id-5 div.sk-serial::before {content: \"\";position: absolute;border-left: 1px solid gray;box-sizing: border-box;top: 0;bottom: 0;left: 50%;z-index: 0;}#sk-container-id-5 div.sk-serial {display: flex;flex-direction: column;align-items: center;background-color: white;padding-right: 0.2em;padding-left: 0.2em;position: relative;}#sk-container-id-5 div.sk-item {position: relative;z-index: 1;}#sk-container-id-5 div.sk-parallel {display: flex;align-items: stretch;justify-content: center;background-color: white;position: relative;}#sk-container-id-5 div.sk-item::before, #sk-container-id-5 div.sk-parallel-item::before {content: \"\";position: absolute;border-left: 1px solid gray;box-sizing: border-box;top: 0;bottom: 0;left: 50%;z-index: -1;}#sk-container-id-5 div.sk-parallel-item {display: flex;flex-direction: column;z-index: 1;position: relative;background-color: white;}#sk-container-id-5 div.sk-parallel-item:first-child::after {align-self: flex-end;width: 50%;}#sk-container-id-5 div.sk-parallel-item:last-child::after {align-self: flex-start;width: 50%;}#sk-container-id-5 div.sk-parallel-item:only-child::after {width: 0;}#sk-container-id-5 div.sk-dashed-wrapped {border: 1px dashed gray;margin: 0 0.4em 0.5em 0.4em;box-sizing: border-box;padding-bottom: 0.4em;background-color: white;}#sk-container-id-5 div.sk-label label {font-family: monospace;font-weight: bold;display: inline-block;line-height: 1.2em;}#sk-container-id-5 div.sk-label-container {text-align: center;}#sk-container-id-5 div.sk-container {/* jupyter's `normalize.less` sets `[hidden] { display: none; }` but bootstrap.min.css set `[hidden] { display: none !important; }` so we also need the `!important` here to be able to override the default hidden behavior on the sphinx rendered scikit-learn.org. See: https://github.com/scikit-learn/scikit-learn/issues/21755 */display: inline-block !important;position: relative;}#sk-container-id-5 div.sk-text-repr-fallback {display: none;}</style><div id=\"sk-container-id-5\" class=\"sk-top-container\"><div class=\"sk-text-repr-fallback\"><pre>TransformedTargetRegressor(regressor=Pipeline(steps=[(&#x27;preprocess&#x27;,\n",
       "                                                      ColumnTransformer(remainder=&#x27;passthrough&#x27;,\n",
       "                                                                        transformers=[(&#x27;prep_num&#x27;,\n",
       "                                                                                       Pipeline(steps=[(&#x27;int_imp&#x27;,\n",
       "                                                                                                        SimpleImputer()),\n",
       "                                                                                                       (&#x27;num_prep&#x27;,\n",
       "                                                                                                        MinMaxScaler())],\n",
       "                                                                                                verbose=True),\n",
       "                                                                                       Index([&#x27;numeric_col_0&#x27;, &#x27;numeric_col_1&#x27;], dtype=&#x27;object&#x27;)),\n",
       "                                                                                      (&#x27;prep_float&#x27;,\n",
       "                                                                                       Pipeline(steps=[(&#x27;float_imp&#x27;,\n",
       "                                                                                                        SimpleImputer(strategy=&#x27;medi...\n",
       "                                                                                       Index([&#x27;float_col_0&#x27;, &#x27;float_col_1&#x27;], dtype=&#x27;object&#x27;)),\n",
       "                                                                                      (&#x27;prep_cat&#x27;,\n",
       "                                                                                       Pipeline(steps=[(&#x27;cat_imp&#x27;,\n",
       "                                                                                                        SimpleImputer(strategy=&#x27;most_frequent&#x27;)),\n",
       "                                                                                                       (&#x27;cat_prep&#x27;,\n",
       "                                                                                                        OneHotEncoder(handle_unknown=&#x27;ignore&#x27;,\n",
       "                                                                                                                      sparse_output=False))],\n",
       "                                                                                                verbose=True),\n",
       "                                                                                       Index([&#x27;categorical_col_0&#x27;, &#x27;categorical_col_1&#x27;], dtype=&#x27;object&#x27;))])),\n",
       "                                                     (&#x27;model&#x27;,\n",
       "                                                      LinearRegression())]),\n",
       "                           transformer=PowerTransformer(method=&#x27;box-cox&#x27;))</pre><b>In a Jupyter environment, please rerun this cell to show the HTML representation or trust the notebook. <br />On GitHub, the HTML representation is unable to render, please try loading this page with nbviewer.org.</b></div><div class=\"sk-container\" hidden><div class=\"sk-item sk-dashed-wrapped\"><div class=\"sk-label-container\"><div class=\"sk-label sk-toggleable\"><input class=\"sk-toggleable__control sk-hidden--visually\" id=\"sk-estimator-id-52\" type=\"checkbox\" ><label for=\"sk-estimator-id-52\" class=\"sk-toggleable__label sk-toggleable__label-arrow\">TransformedTargetRegressor</label><div class=\"sk-toggleable__content\"><pre>TransformedTargetRegressor(regressor=Pipeline(steps=[(&#x27;preprocess&#x27;,\n",
       "                                                      ColumnTransformer(remainder=&#x27;passthrough&#x27;,\n",
       "                                                                        transformers=[(&#x27;prep_num&#x27;,\n",
       "                                                                                       Pipeline(steps=[(&#x27;int_imp&#x27;,\n",
       "                                                                                                        SimpleImputer()),\n",
       "                                                                                                       (&#x27;num_prep&#x27;,\n",
       "                                                                                                        MinMaxScaler())],\n",
       "                                                                                                verbose=True),\n",
       "                                                                                       Index([&#x27;numeric_col_0&#x27;, &#x27;numeric_col_1&#x27;], dtype=&#x27;object&#x27;)),\n",
       "                                                                                      (&#x27;prep_float&#x27;,\n",
       "                                                                                       Pipeline(steps=[(&#x27;float_imp&#x27;,\n",
       "                                                                                                        SimpleImputer(strategy=&#x27;medi...\n",
       "                                                                                       Index([&#x27;float_col_0&#x27;, &#x27;float_col_1&#x27;], dtype=&#x27;object&#x27;)),\n",
       "                                                                                      (&#x27;prep_cat&#x27;,\n",
       "                                                                                       Pipeline(steps=[(&#x27;cat_imp&#x27;,\n",
       "                                                                                                        SimpleImputer(strategy=&#x27;most_frequent&#x27;)),\n",
       "                                                                                                       (&#x27;cat_prep&#x27;,\n",
       "                                                                                                        OneHotEncoder(handle_unknown=&#x27;ignore&#x27;,\n",
       "                                                                                                                      sparse_output=False))],\n",
       "                                                                                                verbose=True),\n",
       "                                                                                       Index([&#x27;categorical_col_0&#x27;, &#x27;categorical_col_1&#x27;], dtype=&#x27;object&#x27;))])),\n",
       "                                                     (&#x27;model&#x27;,\n",
       "                                                      LinearRegression())]),\n",
       "                           transformer=PowerTransformer(method=&#x27;box-cox&#x27;))</pre></div></div></div><div class=\"sk-parallel\"><div class=\"sk-parallel-item\"><div class=\"sk-item\"><div class=\"sk-label-container\"><div class=\"sk-label sk-toggleable\"><input class=\"sk-toggleable__control sk-hidden--visually\" id=\"sk-estimator-id-53\" type=\"checkbox\" ><label for=\"sk-estimator-id-53\" class=\"sk-toggleable__label sk-toggleable__label-arrow\">regressor: Pipeline</label><div class=\"sk-toggleable__content\"><pre>Pipeline(steps=[(&#x27;preprocess&#x27;,\n",
       "                 ColumnTransformer(remainder=&#x27;passthrough&#x27;,\n",
       "                                   transformers=[(&#x27;prep_num&#x27;,\n",
       "                                                  Pipeline(steps=[(&#x27;int_imp&#x27;,\n",
       "                                                                   SimpleImputer()),\n",
       "                                                                  (&#x27;num_prep&#x27;,\n",
       "                                                                   MinMaxScaler())],\n",
       "                                                           verbose=True),\n",
       "                                                  Index([&#x27;numeric_col_0&#x27;, &#x27;numeric_col_1&#x27;], dtype=&#x27;object&#x27;)),\n",
       "                                                 (&#x27;prep_float&#x27;,\n",
       "                                                  Pipeline(steps=[(&#x27;float_imp&#x27;,\n",
       "                                                                   SimpleImputer(strategy=&#x27;median&#x27;)),\n",
       "                                                                  (&#x27;float_prep&#x27;,\n",
       "                                                                   RobustScaler())],\n",
       "                                                           verbose=True),\n",
       "                                                  Index([&#x27;float_col_0&#x27;, &#x27;float_col_1&#x27;], dtype=&#x27;object&#x27;)),\n",
       "                                                 (&#x27;prep_cat&#x27;,\n",
       "                                                  Pipeline(steps=[(&#x27;cat_imp&#x27;,\n",
       "                                                                   SimpleImputer(strategy=&#x27;most_frequent&#x27;)),\n",
       "                                                                  (&#x27;cat_prep&#x27;,\n",
       "                                                                   OneHotEncoder(handle_unknown=&#x27;ignore&#x27;,\n",
       "                                                                                 sparse_output=False))],\n",
       "                                                           verbose=True),\n",
       "                                                  Index([&#x27;categorical_col_0&#x27;, &#x27;categorical_col_1&#x27;], dtype=&#x27;object&#x27;))])),\n",
       "                (&#x27;model&#x27;, LinearRegression())])</pre></div></div></div><div class=\"sk-serial\"><div class=\"sk-item\"><div class=\"sk-serial\"><div class=\"sk-item sk-dashed-wrapped\"><div class=\"sk-label-container\"><div class=\"sk-label sk-toggleable\"><input class=\"sk-toggleable__control sk-hidden--visually\" id=\"sk-estimator-id-54\" type=\"checkbox\" ><label for=\"sk-estimator-id-54\" class=\"sk-toggleable__label sk-toggleable__label-arrow\">preprocess: ColumnTransformer</label><div class=\"sk-toggleable__content\"><pre>ColumnTransformer(remainder=&#x27;passthrough&#x27;,\n",
       "                  transformers=[(&#x27;prep_num&#x27;,\n",
       "                                 Pipeline(steps=[(&#x27;int_imp&#x27;, SimpleImputer()),\n",
       "                                                 (&#x27;num_prep&#x27;, MinMaxScaler())],\n",
       "                                          verbose=True),\n",
       "                                 Index([&#x27;numeric_col_0&#x27;, &#x27;numeric_col_1&#x27;], dtype=&#x27;object&#x27;)),\n",
       "                                (&#x27;prep_float&#x27;,\n",
       "                                 Pipeline(steps=[(&#x27;float_imp&#x27;,\n",
       "                                                  SimpleImputer(strategy=&#x27;median&#x27;)),\n",
       "                                                 (&#x27;float_prep&#x27;,\n",
       "                                                  RobustScaler())],\n",
       "                                          verbose=True),\n",
       "                                 Index([&#x27;float_col_0&#x27;, &#x27;float_col_1&#x27;], dtype=&#x27;object&#x27;)),\n",
       "                                (&#x27;prep_cat&#x27;,\n",
       "                                 Pipeline(steps=[(&#x27;cat_imp&#x27;,\n",
       "                                                  SimpleImputer(strategy=&#x27;most_frequent&#x27;)),\n",
       "                                                 (&#x27;cat_prep&#x27;,\n",
       "                                                  OneHotEncoder(handle_unknown=&#x27;ignore&#x27;,\n",
       "                                                                sparse_output=False))],\n",
       "                                          verbose=True),\n",
       "                                 Index([&#x27;categorical_col_0&#x27;, &#x27;categorical_col_1&#x27;], dtype=&#x27;object&#x27;))])</pre></div></div></div><div class=\"sk-parallel\"><div class=\"sk-parallel-item\"><div class=\"sk-item\"><div class=\"sk-label-container\"><div class=\"sk-label sk-toggleable\"><input class=\"sk-toggleable__control sk-hidden--visually\" id=\"sk-estimator-id-55\" type=\"checkbox\" ><label for=\"sk-estimator-id-55\" class=\"sk-toggleable__label sk-toggleable__label-arrow\">prep_num</label><div class=\"sk-toggleable__content\"><pre>Index([&#x27;numeric_col_0&#x27;, &#x27;numeric_col_1&#x27;], dtype=&#x27;object&#x27;)</pre></div></div></div><div class=\"sk-serial\"><div class=\"sk-item\"><div class=\"sk-serial\"><div class=\"sk-item\"><div class=\"sk-estimator sk-toggleable\"><input class=\"sk-toggleable__control sk-hidden--visually\" id=\"sk-estimator-id-56\" type=\"checkbox\" ><label for=\"sk-estimator-id-56\" class=\"sk-toggleable__label sk-toggleable__label-arrow\">SimpleImputer</label><div class=\"sk-toggleable__content\"><pre>SimpleImputer()</pre></div></div></div><div class=\"sk-item\"><div class=\"sk-estimator sk-toggleable\"><input class=\"sk-toggleable__control sk-hidden--visually\" id=\"sk-estimator-id-57\" type=\"checkbox\" ><label for=\"sk-estimator-id-57\" class=\"sk-toggleable__label sk-toggleable__label-arrow\">MinMaxScaler</label><div class=\"sk-toggleable__content\"><pre>MinMaxScaler()</pre></div></div></div></div></div></div></div></div><div class=\"sk-parallel-item\"><div class=\"sk-item\"><div class=\"sk-label-container\"><div class=\"sk-label sk-toggleable\"><input class=\"sk-toggleable__control sk-hidden--visually\" id=\"sk-estimator-id-58\" type=\"checkbox\" ><label for=\"sk-estimator-id-58\" class=\"sk-toggleable__label sk-toggleable__label-arrow\">prep_float</label><div class=\"sk-toggleable__content\"><pre>Index([&#x27;float_col_0&#x27;, &#x27;float_col_1&#x27;], dtype=&#x27;object&#x27;)</pre></div></div></div><div class=\"sk-serial\"><div class=\"sk-item\"><div class=\"sk-serial\"><div class=\"sk-item\"><div class=\"sk-estimator sk-toggleable\"><input class=\"sk-toggleable__control sk-hidden--visually\" id=\"sk-estimator-id-59\" type=\"checkbox\" ><label for=\"sk-estimator-id-59\" class=\"sk-toggleable__label sk-toggleable__label-arrow\">SimpleImputer</label><div class=\"sk-toggleable__content\"><pre>SimpleImputer(strategy=&#x27;median&#x27;)</pre></div></div></div><div class=\"sk-item\"><div class=\"sk-estimator sk-toggleable\"><input class=\"sk-toggleable__control sk-hidden--visually\" id=\"sk-estimator-id-60\" type=\"checkbox\" ><label for=\"sk-estimator-id-60\" class=\"sk-toggleable__label sk-toggleable__label-arrow\">RobustScaler</label><div class=\"sk-toggleable__content\"><pre>RobustScaler()</pre></div></div></div></div></div></div></div></div><div class=\"sk-parallel-item\"><div class=\"sk-item\"><div class=\"sk-label-container\"><div class=\"sk-label sk-toggleable\"><input class=\"sk-toggleable__control sk-hidden--visually\" id=\"sk-estimator-id-61\" type=\"checkbox\" ><label for=\"sk-estimator-id-61\" class=\"sk-toggleable__label sk-toggleable__label-arrow\">prep_cat</label><div class=\"sk-toggleable__content\"><pre>Index([&#x27;categorical_col_0&#x27;, &#x27;categorical_col_1&#x27;], dtype=&#x27;object&#x27;)</pre></div></div></div><div class=\"sk-serial\"><div class=\"sk-item\"><div class=\"sk-serial\"><div class=\"sk-item\"><div class=\"sk-estimator sk-toggleable\"><input class=\"sk-toggleable__control sk-hidden--visually\" id=\"sk-estimator-id-62\" type=\"checkbox\" ><label for=\"sk-estimator-id-62\" class=\"sk-toggleable__label sk-toggleable__label-arrow\">SimpleImputer</label><div class=\"sk-toggleable__content\"><pre>SimpleImputer(strategy=&#x27;most_frequent&#x27;)</pre></div></div></div><div class=\"sk-item\"><div class=\"sk-estimator sk-toggleable\"><input class=\"sk-toggleable__control sk-hidden--visually\" id=\"sk-estimator-id-63\" type=\"checkbox\" ><label for=\"sk-estimator-id-63\" class=\"sk-toggleable__label sk-toggleable__label-arrow\">OneHotEncoder</label><div class=\"sk-toggleable__content\"><pre>OneHotEncoder(handle_unknown=&#x27;ignore&#x27;, sparse_output=False)</pre></div></div></div></div></div></div></div></div><div class=\"sk-parallel-item\"><div class=\"sk-item\"><div class=\"sk-label-container\"><div class=\"sk-label sk-toggleable\"><input class=\"sk-toggleable__control sk-hidden--visually\" id=\"sk-estimator-id-64\" type=\"checkbox\" ><label for=\"sk-estimator-id-64\" class=\"sk-toggleable__label sk-toggleable__label-arrow\">remainder</label><div class=\"sk-toggleable__content\"><pre></pre></div></div></div><div class=\"sk-serial\"><div class=\"sk-item\"><div class=\"sk-estimator sk-toggleable\"><input class=\"sk-toggleable__control sk-hidden--visually\" id=\"sk-estimator-id-65\" type=\"checkbox\" ><label for=\"sk-estimator-id-65\" class=\"sk-toggleable__label sk-toggleable__label-arrow\">passthrough</label><div class=\"sk-toggleable__content\"><pre>passthrough</pre></div></div></div></div></div></div></div></div><div class=\"sk-item\"><div class=\"sk-estimator sk-toggleable\"><input class=\"sk-toggleable__control sk-hidden--visually\" id=\"sk-estimator-id-66\" type=\"checkbox\" ><label for=\"sk-estimator-id-66\" class=\"sk-toggleable__label sk-toggleable__label-arrow\">LinearRegression</label><div class=\"sk-toggleable__content\"><pre>LinearRegression()</pre></div></div></div></div></div></div></div></div><div class=\"sk-parallel-item\"><div class=\"sk-item\"><div class=\"sk-label-container\"><div class=\"sk-label sk-toggleable\"><input class=\"sk-toggleable__control sk-hidden--visually\" id=\"sk-estimator-id-67\" type=\"checkbox\" ><label for=\"sk-estimator-id-67\" class=\"sk-toggleable__label sk-toggleable__label-arrow\">transformer: PowerTransformer</label><div class=\"sk-toggleable__content\"><pre>PowerTransformer(method=&#x27;box-cox&#x27;)</pre></div></div></div><div class=\"sk-serial\"><div class=\"sk-item\"><div class=\"sk-estimator sk-toggleable\"><input class=\"sk-toggleable__control sk-hidden--visually\" id=\"sk-estimator-id-68\" type=\"checkbox\" ><label for=\"sk-estimator-id-68\" class=\"sk-toggleable__label sk-toggleable__label-arrow\">PowerTransformer</label><div class=\"sk-toggleable__content\"><pre>PowerTransformer(method=&#x27;box-cox&#x27;)</pre></div></div></div></div></div></div></div></div></div></div>"
      ],
      "text/plain": [
       "TransformedTargetRegressor(regressor=Pipeline(steps=[('preprocess',\n",
       "                                                      ColumnTransformer(remainder='passthrough',\n",
       "                                                                        transformers=[('prep_num',\n",
       "                                                                                       Pipeline(steps=[('int_imp',\n",
       "                                                                                                        SimpleImputer()),\n",
       "                                                                                                       ('num_prep',\n",
       "                                                                                                        MinMaxScaler())],\n",
       "                                                                                                verbose=True),\n",
       "                                                                                       Index(['numeric_col_0', 'numeric_col_1'], dtype='object')),\n",
       "                                                                                      ('prep_float',\n",
       "                                                                                       Pipeline(steps=[('float_imp',\n",
       "                                                                                                        SimpleImputer(strategy='medi...\n",
       "                                                                                       Index(['float_col_0', 'float_col_1'], dtype='object')),\n",
       "                                                                                      ('prep_cat',\n",
       "                                                                                       Pipeline(steps=[('cat_imp',\n",
       "                                                                                                        SimpleImputer(strategy='most_frequent')),\n",
       "                                                                                                       ('cat_prep',\n",
       "                                                                                                        OneHotEncoder(handle_unknown='ignore',\n",
       "                                                                                                                      sparse_output=False))],\n",
       "                                                                                                verbose=True),\n",
       "                                                                                       Index(['categorical_col_0', 'categorical_col_1'], dtype='object'))])),\n",
       "                                                     ('model',\n",
       "                                                      LinearRegression())]),\n",
       "                           transformer=PowerTransformer(method='box-cox'))"
      ]
     },
     "execution_count": 25,
     "metadata": {},
     "output_type": "execute_result"
    }
   ],
   "source": [
    "model.fit(X, y)"
   ]
  },
  {
   "cell_type": "code",
   "execution_count": 26,
   "id": "a7da9a60-6e4c-43bd-ba46-e6c612fcb714",
   "metadata": {
    "tags": []
   },
   "outputs": [
    {
     "data": {
      "text/plain": [
       "array([ 59.91274421,  87.58035036, 103.77994564,  51.41477682,\n",
       "        57.53253837,   3.57702933,  21.7322767 ,  22.22797385,\n",
       "        47.00203771,  59.97971031])"
      ]
     },
     "execution_count": 26,
     "metadata": {},
     "output_type": "execute_result"
    }
   ],
   "source": [
    "model.predict(X)"
   ]
  },
  {
   "cell_type": "code",
   "execution_count": 27,
   "id": "e2f6495f-d276-4187-9997-47837f03c30a",
   "metadata": {
    "tags": []
   },
   "outputs": [
    {
     "data": {
      "text/plain": [
       "array([78.51328234, 94.94989416, 90.48273504, 60.78999788, 93.1874235 ,\n",
       "        9.84925021, 20.59828624,  5.52272889, 33.53303308, 39.86772897])"
      ]
     },
     "execution_count": 27,
     "metadata": {},
     "output_type": "execute_result"
    }
   ],
   "source": [
    "y.values"
   ]
  },
  {
   "cell_type": "code",
   "execution_count": null,
   "id": "e5b18ca8-d941-4847-b6a7-b847c0e8c5ee",
   "metadata": {},
   "outputs": [],
   "source": []
  }
 ],
 "metadata": {
  "kernelspec": {
   "display_name": "env",
   "language": "python",
   "name": "env"
  },
  "language_info": {
   "codemirror_mode": {
    "name": "ipython",
    "version": 3
   },
   "file_extension": ".py",
   "mimetype": "text/x-python",
   "name": "python",
   "nbconvert_exporter": "python",
   "pygments_lexer": "ipython3",
   "version": "3.11.2"
  }
 },
 "nbformat": 4,
 "nbformat_minor": 5
}
